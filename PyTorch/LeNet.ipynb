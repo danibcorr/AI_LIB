{
 "cells": [
  {
   "cell_type": "code",
   "execution_count": 1,
   "metadata": {},
   "outputs": [],
   "source": [
    "import torch\n",
    "import torch.nn as nn\n",
    "import torch.nn.functional as F\n",
    "from torch.utils.data import DataLoader\n",
    "import torchvision.datasets as datasets\n",
    "import torchvision.transforms as transforms\n",
    "import torch.optim as optim"
   ]
  },
  {
   "cell_type": "code",
   "execution_count": 2,
   "metadata": {},
   "outputs": [
    {
     "name": "stdout",
     "output_type": "stream",
     "text": [
      "True\n"
     ]
    }
   ],
   "source": [
    "device = \"cuda\" if torch.cuda.is_available() else \"cpu\"\n",
    "print(torch.cuda.is_available())"
   ]
  },
  {
   "cell_type": "code",
   "execution_count": 3,
   "metadata": {},
   "outputs": [],
   "source": [
    "class LeNet(nn.Module):\n",
    "\n",
    "    def __init__(self):\n",
    "\n",
    "        super(LeNet, self).__init__()\n",
    "\n",
    "        self.activation = nn.Tanh()\n",
    "        self.pool = nn.AvgPool2d(kernel_size = (2, 2), stride = (2, 2))\n",
    "        \n",
    "        self.conv1 = nn.Conv2d(in_channels = 1, out_channels = 6, kernel_size = (5, 5), stride = (1, 1), padding = (0, 0))\n",
    "        self.conv2 = nn.Conv2d(in_channels = 6, out_channels = 16, kernel_size = (5, 5), stride = (1, 1), padding = (0, 0))\n",
    "        self.conv3 = nn.Conv2d(in_channels = 16, out_channels = 120, kernel_size = (5, 5), stride = (1, 1), padding = (0, 0))\n",
    "\n",
    "        self.fc1 = nn.Linear(in_features = 120, out_features = 84)\n",
    "        self.fc2 = nn.Linear(in_features = 84, out_features = 10)\n",
    "\n",
    "    def forward(self, x):\n",
    "\n",
    "        x = self.activation(self.conv1(x))\n",
    "        x = self.pool(x)\n",
    "\n",
    "        x = self.activation(self.conv2(x))\n",
    "        x = self.pool(x)\n",
    "        \n",
    "        x = self.activation(self.conv3(x))\n",
    "\n",
    "        x = x.reshape(x.shape[0], -1)\n",
    "        \n",
    "        x = self.activation(self.fc1(x))\n",
    "        \n",
    "        x = self.fc2(x)\n",
    "\n",
    "        return x"
   ]
  },
  {
   "cell_type": "code",
   "execution_count": 4,
   "metadata": {},
   "outputs": [],
   "source": [
    "# Hiperparámetros\n",
    "num_entradas = 1\n",
    "num_clases = 10\n",
    "batch_size = 64\n",
    "learning_rate = 1e-3\n",
    "num_epocas = 3"
   ]
  },
  {
   "cell_type": "code",
   "execution_count": 5,
   "metadata": {},
   "outputs": [],
   "source": [
    "# Vamos a descargar el dataset de MNIST\n",
    "train_dataset = datasets.MNIST(root = 'dataset/', train = True, transform = transforms.ToTensor(), download = True)\n",
    "train_dataset.data = F.pad(input = train_dataset.data, pad = (2, 2, 2, 2), mode='constant', value=0)\n",
    "train_loader = DataLoader(dataset = train_dataset, batch_size = batch_size, shuffle = True)\n",
    "\n",
    "test_dataset = datasets.MNIST(root = 'dataset/', train = False, transform = transforms.ToTensor(), download = True)\n",
    "test_dataset.data = F.pad(input = test_dataset.data, pad = (2, 2, 2, 2), mode='constant', value=0)\n",
    "test_loader = DataLoader(dataset = test_dataset, batch_size = batch_size, shuffle = True)"
   ]
  },
  {
   "cell_type": "code",
   "execution_count": 6,
   "metadata": {},
   "outputs": [
    {
     "name": "stdout",
     "output_type": "stream",
     "text": [
      "Dataset MNIST\n",
      "    Number of datapoints: 60000\n",
      "    Root location: dataset/\n",
      "    Split: Train\n",
      "    StandardTransform\n",
      "Transform: ToTensor()\n",
      "Dataset MNIST\n",
      "    Number of datapoints: 10000\n",
      "    Root location: dataset/\n",
      "    Split: Test\n",
      "    StandardTransform\n",
      "Transform: ToTensor()\n",
      "torch.Size([60000, 32, 32])\n",
      "torch.Size([10000, 32, 32])\n"
     ]
    }
   ],
   "source": [
    "print(train_dataset)\n",
    "print(test_dataset)\n",
    "print(train_dataset.data.size())\n",
    "print(test_dataset.data.size())\n"
   ]
  },
  {
   "cell_type": "code",
   "execution_count": 7,
   "metadata": {},
   "outputs": [],
   "source": [
    "# Inicializamos el modelo\n",
    "# Usamos .to(device) para llevar el entrenamiento del modelo al dispositivo disponible (GPU o CPU)\n",
    "modelo = LeNet().to(device)"
   ]
  },
  {
   "cell_type": "code",
   "execution_count": 8,
   "metadata": {},
   "outputs": [],
   "source": [
    "# Loss function, para clasificaciones de una sola etiqueta (y) como en este caso podemos utilizar Cross Entropy Loss\n",
    "func_perdida = nn.CrossEntropyLoss()\n",
    "optimizador = optim.Adam(params = modelo.parameters(), lr = learning_rate)"
   ]
  },
  {
   "cell_type": "code",
   "execution_count": 9,
   "metadata": {},
   "outputs": [
    {
     "name": "stdout",
     "output_type": "stream",
     "text": [
      "torch.Size([64, 1, 32, 32])\n",
      "Epoca [1/3]\tPrecision 91.18167114257812\n",
      "Epoca [2/3]\tPrecision 97.04666900634766\n",
      "Epoca [3/3]\tPrecision 98.0999984741211\n"
     ]
    }
   ],
   "source": [
    "cont = 0\n",
    "\n",
    "for epoca in range(num_epocas):\n",
    "\n",
    "    correcto = 0\n",
    "    \n",
    "    for batch_idx, (x, y) in enumerate(train_loader):\n",
    "\n",
    "        x = x.to(device = device)\n",
    "        y = y.to(device = device)\n",
    "\n",
    "        if (cont == 0):\n",
    "            \n",
    "            print(x.shape)\n",
    "            cont += 1\n",
    "\n",
    "        # forward\n",
    "        scores = modelo(x)\n",
    "        loss = func_perdida(scores, y)\n",
    "\n",
    "        # Backpropagation\n",
    "        # Zero your gradients for every batch!\n",
    "        # Ponemos el gradiente a 0 para cada batch para que no almacene las derivadas de las anteriores capas\n",
    "        optimizador.zero_grad() \n",
    "        loss.backward()\n",
    "\n",
    "        # Descenso del gradiente o pasos del algoritmo ADAM\n",
    "        optimizador.step()\n",
    "        \n",
    "        #correcto += (scores == y).float().sum()\n",
    "        _,pred_label = torch.max(scores, dim = 1)\n",
    "        correcto += (pred_label == y).float().sum()\n",
    "    \n",
    "    print(f\"Epoca [{epoca+1}/{num_epocas}]\\tPrecision {((100 * correcto) / len(train_dataset))}\")"
   ]
  },
  {
   "cell_type": "code",
   "execution_count": 12,
   "metadata": {},
   "outputs": [],
   "source": [
    "# Comprobar precisión del modelo en entrenamiento y validacion\n",
    "def comprobar_precision(loader, model):\n",
    "\n",
    "    num_correct = 0\n",
    "    num_samples = 0\n",
    "    model.eval()\n",
    "\n",
    "    # Para evaluar el modelo no necesitamos calcular el gradiente\n",
    "    with torch.no_grad(): \n",
    "    \n",
    "        for x, y in loader:\n",
    "    \n",
    "            x = x.to(device = device)\n",
    "            y = y.to(device = device)\n",
    "\n",
    "            scores = model(x)\n",
    "            _, predictions = scores.max(1)\n",
    "            num_correct += (predictions == y).sum()\n",
    "            num_samples += predictions.size(0)\n",
    "\n",
    "        print(f\"Tenemos {num_correct} / {num_samples} con una precision de {float(num_correct) / float(num_samples) * 100:.2f}\")\n",
    "\n",
    "    model.train()"
   ]
  },
  {
   "cell_type": "code",
   "execution_count": 11,
   "metadata": {},
   "outputs": [
    {
     "name": "stdout",
     "output_type": "stream",
     "text": [
      "Tenemos 59054 / 60000 con una precision de 98.42\n",
      "Tenemos 9795 / 10000 con una precision de 97.95\n"
     ]
    }
   ],
   "source": [
    "comprobar_precision(train_loader, modelo)\n",
    "comprobar_precision(test_loader, modelo)"
   ]
  },
  {
   "cell_type": "code",
   "execution_count": null,
   "metadata": {},
   "outputs": [],
   "source": []
  }
 ],
 "metadata": {
  "kernelspec": {
   "display_name": "pytorch_1.7.1",
   "language": "python",
   "name": "pytorch_1.7.1"
  },
  "language_info": {
   "codemirror_mode": {
    "name": "ipython",
    "version": 3
   },
   "file_extension": ".py",
   "mimetype": "text/x-python",
   "name": "python",
   "nbconvert_exporter": "python",
   "pygments_lexer": "ipython3",
   "version": "3.8.13"
  },
  "orig_nbformat": 4,
  "vscode": {
   "interpreter": {
    "hash": "9b93f5843423b5e3529b2348264279e864dd5c0e7e7f0b21d3f099c54aa317cc"
   }
  }
 },
 "nbformat": 4,
 "nbformat_minor": 2
}
