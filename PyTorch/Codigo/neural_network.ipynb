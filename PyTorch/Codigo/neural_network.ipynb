{
 "cells": [
  {
   "cell_type": "code",
   "execution_count": 1,
   "metadata": {},
   "outputs": [],
   "source": [
    "# Vamos a utilizar el data set de MNIST"
   ]
  },
  {
   "cell_type": "code",
   "execution_count": 2,
   "metadata": {},
   "outputs": [],
   "source": [
    "import torch\n",
    "# Modulo de NN\n",
    "import torch.nn as nn \n",
    "# Modulo para los algoritmos de optimizacion\n",
    "import torch.optim as optim\n",
    "# Funciones de activacion\n",
    "import torch.nn.functional as F\n",
    "# Este modulo nos permite manipular datos \n",
    "from torch.utils.data import DataLoader\n",
    "import torchvision.datasets as datasets\n",
    "import torchvision.transforms as transforms"
   ]
  },
  {
   "cell_type": "code",
   "execution_count": 3,
   "metadata": {},
   "outputs": [],
   "source": [
    "device = \"cuda\" if torch.cuda.is_available() else \"cpu\""
   ]
  },
  {
   "cell_type": "code",
   "execution_count": 4,
   "metadata": {},
   "outputs": [],
   "source": [
    "# Creamos la clase que define a la arquitectura que vamos a utilizar\n",
    "class NN(nn.Module):\n",
    "    \n",
    "    # MNIST tiene 10 clases, números del 0 al 9\n",
    "    def __init__(self, tam_entrada, num_clases): \n",
    "\n",
    "        super(NN, self).__init__()\n",
    "\n",
    "        # Como las imágenes van a ser de 28 x 28 = 784 pixeles por imagen, este será  el tamaño de entrada\n",
    "        # el tamaño de la primera capa\n",
    "        self.capa1 = nn.Linear(in_features = tam_entrada, out_features = 50)\n",
    "        self.capa2 = nn.Linear(in_features = 50, out_features = num_clases)\n",
    "\n",
    "    def forward(self, entrada):\n",
    "\n",
    "        entrada = F.relu(self.capa1(entrada))\n",
    "        entrada = self.capa2(entrada)\n",
    "        \n",
    "        return entrada\n"
   ]
  },
  {
   "cell_type": "code",
   "execution_count": 6,
   "metadata": {},
   "outputs": [
    {
     "name": "stdout",
     "output_type": "stream",
     "text": [
      "torch.Size([64, 10])\n"
     ]
    }
   ],
   "source": [
    "# Podemos hacer una prueba de que la estructura es correcta si al darle un tensor cualquiera obtenermos un resultado con un tamño esperado\n",
    "modelo = NN(tam_entrada = 784, num_clases = 10)\n",
    "\n",
    "# 64 sería el número de ejemplos que ejecutaríamos de manera simultanea, es decir, el batch size\n",
    "x = torch.rand(size = (64, 784))\n",
    "\n",
    "# Observaremos que el resultado será un tensor de tamaño igual a la cantidad de ejemplos del batch size y el número de clases\n",
    "print(modelo(x).shape)"
   ]
  },
  {
   "cell_type": "code",
   "execution_count": 7,
   "metadata": {},
   "outputs": [],
   "source": [
    "# Hiperparámetros\n",
    "tam_entrada = 784\n",
    "num_clases = 10\n",
    "batch_size = 64\n",
    "learning_rate = 1e-3\n",
    "num_epocas = 3"
   ]
  },
  {
   "cell_type": "code",
   "execution_count": 8,
   "metadata": {},
   "outputs": [
    {
     "name": "stdout",
     "output_type": "stream",
     "text": [
      "Downloading http://yann.lecun.com/exdb/mnist/train-images-idx3-ubyte.gz to dataset/MNIST\\raw\\train-images-idx3-ubyte.gz\n"
     ]
    },
    {
     "name": "stderr",
     "output_type": "stream",
     "text": [
      "100.1%"
     ]
    },
    {
     "name": "stdout",
     "output_type": "stream",
     "text": [
      "Extracting dataset/MNIST\\raw\\train-images-idx3-ubyte.gz to dataset/MNIST\\raw\n",
      "Downloading http://yann.lecun.com/exdb/mnist/train-labels-idx1-ubyte.gz to dataset/MNIST\\raw\\train-labels-idx1-ubyte.gz\n"
     ]
    },
    {
     "name": "stderr",
     "output_type": "stream",
     "text": [
      "113.5%"
     ]
    },
    {
     "name": "stdout",
     "output_type": "stream",
     "text": [
      "Extracting dataset/MNIST\\raw\\train-labels-idx1-ubyte.gz to dataset/MNIST\\raw\n",
      "Downloading http://yann.lecun.com/exdb/mnist/t10k-images-idx3-ubyte.gz to dataset/MNIST\\raw\\t10k-images-idx3-ubyte.gz\n"
     ]
    },
    {
     "name": "stderr",
     "output_type": "stream",
     "text": [
      "100.4%"
     ]
    },
    {
     "name": "stdout",
     "output_type": "stream",
     "text": [
      "Extracting dataset/MNIST\\raw\\t10k-images-idx3-ubyte.gz to dataset/MNIST\\raw\n",
      "Downloading http://yann.lecun.com/exdb/mnist/t10k-labels-idx1-ubyte.gz to dataset/MNIST\\raw\\t10k-labels-idx1-ubyte.gz\n"
     ]
    },
    {
     "name": "stderr",
     "output_type": "stream",
     "text": [
      "180.4%e:\\Programas\\anaconda3\\envs\\pytorch_1.7.1\\lib\\site-packages\\torchvision\\datasets\\mnist.py:480: UserWarning: The given NumPy array is not writeable, and PyTorch does not support non-writeable tensors. This means you can write to the underlying (supposedly non-writeable) NumPy array using the tensor. You may want to copy the array to protect its data or make it writeable before converting it to a tensor. This type of warning will be suppressed for the rest of this program. (Triggered internally at  ..\\torch\\csrc\\utils\\tensor_numpy.cpp:141.)\n",
      "  return torch.from_numpy(parsed.astype(m[2], copy=False)).view(*s)\n"
     ]
    },
    {
     "name": "stdout",
     "output_type": "stream",
     "text": [
      "Extracting dataset/MNIST\\raw\\t10k-labels-idx1-ubyte.gz to dataset/MNIST\\raw\n",
      "Processing...\n",
      "Done!\n"
     ]
    }
   ],
   "source": [
    "# Vamos a descargar el dataset de MNIST\n",
    "train_dataset = datasets.MNIST(root = 'dataset/', train = True, transform = transforms.ToTensor(), download = True)\n",
    "train_loader = DataLoader(dataset = train_dataset, batch_size = batch_size, shuffle = True)\n",
    "\n",
    "test_dataset = datasets.MNIST(root = 'dataset/', train = False, transform = transforms.ToTensor(), download = True)\n",
    "test_loader = DataLoader(dataset = test_dataset, batch_size = batch_size, shuffle = True)"
   ]
  },
  {
   "cell_type": "code",
   "execution_count": 9,
   "metadata": {},
   "outputs": [],
   "source": [
    "# Inicializamos el modelo\n",
    "# Usamos .to(device) para llevar el entrenamiento del modelo al dispositivo disponible (GPU o CPU)\n",
    "modelo = NN(tam_entrada = tam_entrada, num_clases = num_clases).to(device)"
   ]
  },
  {
   "cell_type": "code",
   "execution_count": 10,
   "metadata": {},
   "outputs": [],
   "source": [
    "# Loss function, para clasificaciones de una sola etiqueta (y) como en este caso podemos utilizar Cross Entropy Loss\n",
    "func_perdida = nn.CrossEntropyLoss()\n",
    "optimizador = optim.Adam(params = modelo.parameters(), lr = learning_rate)"
   ]
  },
  {
   "cell_type": "code",
   "execution_count": 12,
   "metadata": {},
   "outputs": [
    {
     "name": "stdout",
     "output_type": "stream",
     "text": [
      "torch.Size([64, 1, 28, 28])\n"
     ]
    }
   ],
   "source": [
    "# Variable utilizada para controlar el tamaño de los datos\n",
    "cont = 0\n",
    "\n",
    "for epoca in range(num_epocas):\n",
    "\n",
    "    for batch_index, (x, y) in enumerate(iterable = train_loader):\n",
    "\n",
    "        x = x.to(device = device)\n",
    "        y = y.to(device = device)\n",
    "\n",
    "        if (cont == 0):\n",
    "\n",
    "            cont += 1\n",
    "\n",
    "            # El resultado debe ser [batch_size, nº canales, tamaño imagen]\n",
    "            # En este caso batch_size = 64, nº canales de la imagen es 1 porque son imagenes en blanco y negro\n",
    "            # por lo que no tiene canales RGB, y el tamaño de cada imagen es de 28 x 28\n",
    "            print(x.shape)\n",
    "\n",
    "        # Pero tenemos que convertir estas matrices (una imagen es una matriz) en tensores de una dimension\n",
    "        x = x.reshape(x.shape[0], -1)\n",
    "\n",
    "        # forward\n",
    "        scores = modelo(x)\n",
    "        loss = func_perdida(scores, y)\n",
    "\n",
    "        # Backpropagation\n",
    "        # Zero your gradients for every batch!\n",
    "        optimizador.zero_grad() # Ponemos el gradiente a 0 para cada batch para que no almacene las derivadas de las anteriores capas\n",
    "        loss.backward()\n",
    "\n",
    "        # Descenso del gradiente o pasos del algoritmo ADAM\n",
    "        optimizador.step()"
   ]
  },
  {
   "cell_type": "code",
   "execution_count": 19,
   "metadata": {},
   "outputs": [],
   "source": [
    "# Comprobar precisión del modelo en entrenamiento y validacion\n",
    "def comprobar_precision(loader, model):\n",
    "\n",
    "    num_correct = 0\n",
    "    num_samples = 0\n",
    "    model.eval()\n",
    "\n",
    "    # Para evaluar el modelo no necesitamos calcular el gradiente\n",
    "    with torch.no_grad(): \n",
    "    \n",
    "        for x, y in loader:\n",
    "    \n",
    "            x = x.to(device = device)\n",
    "            y = y.to(device = device)\n",
    "            x = x.reshape(x.shape[0], -1)\n",
    "\n",
    "            scores = model(x)\n",
    "            _, predictions = scores.max(1)\n",
    "            num_correct += (predictions == y).sum()\n",
    "            num_samples += predictions.size(0)\n",
    "\n",
    "        print(f\"Tenemos {num_correct} / {num_samples} con una precision de {float(num_correct) / float(num_samples) * 100:.2f}\")\n",
    "\n",
    "    model.train()"
   ]
  },
  {
   "cell_type": "code",
   "execution_count": 20,
   "metadata": {},
   "outputs": [
    {
     "name": "stdout",
     "output_type": "stream",
     "text": [
      "Tenemos 57614 / 60000 con una precision de 96.02\n",
      "Tenemos 9556 / 10000 con una precision de 95.56\n"
     ]
    }
   ],
   "source": [
    "comprobar_precision(train_loader, modelo)\n",
    "comprobar_precision(test_loader, modelo)"
   ]
  },
  {
   "cell_type": "code",
   "execution_count": null,
   "metadata": {},
   "outputs": [],
   "source": []
  }
 ],
 "metadata": {
  "kernelspec": {
   "display_name": "Python 3.8.13 ('pytorch_1.7.1')",
   "language": "python",
   "name": "python3"
  },
  "language_info": {
   "codemirror_mode": {
    "name": "ipython",
    "version": 3
   },
   "file_extension": ".py",
   "mimetype": "text/x-python",
   "name": "python",
   "nbconvert_exporter": "python",
   "pygments_lexer": "ipython3",
   "version": "3.8.13"
  },
  "orig_nbformat": 4,
  "vscode": {
   "interpreter": {
    "hash": "9b93f5843423b5e3529b2348264279e864dd5c0e7e7f0b21d3f099c54aa317cc"
   }
  }
 },
 "nbformat": 4,
 "nbformat_minor": 2
}
