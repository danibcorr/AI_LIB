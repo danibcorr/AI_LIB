{
 "cells": [
  {
   "cell_type": "code",
   "execution_count": 1,
   "metadata": {},
   "outputs": [],
   "source": [
    "# Implementacion de la arquitectura VGG\n",
    "# Very Deep Convolutional Networks for Large-Scale Image Recognition\n",
    "# Existen diferentes versiones de VGG, en este caso nos centraremos en la version del paper D"
   ]
  },
  {
   "cell_type": "code",
   "execution_count": 2,
   "metadata": {},
   "outputs": [],
   "source": [
    "import torch\n",
    "import torch.nn as nn\n",
    "import torch.nn.functional as F\n",
    "import torchvision.datasets as datasets\n",
    "import torchvision.transforms as transforms\n",
    "from torch.utils.data import DataLoader\n",
    "import torch.optim as optim\n",
    "\n",
    "# Barra progeso durante entrenamiento\n",
    "from tqdm import tqdm"
   ]
  },
  {
   "cell_type": "code",
   "execution_count": 3,
   "metadata": {},
   "outputs": [
    {
     "name": "stdout",
     "output_type": "stream",
     "text": [
      "True\n"
     ]
    }
   ],
   "source": [
    "device = \"cuda\" if torch.cuda.is_available() else \"cpu\"\n",
    "print(torch.cuda.is_available())"
   ]
  },
  {
   "cell_type": "code",
   "execution_count": 4,
   "metadata": {},
   "outputs": [],
   "source": [
    "# Aunque en el paper original no se normalizaban los subconjuntos de imágenes (batches)\n",
    "# lo incluiremos ya que mejora el rendimiento del modelo durante el entrenamiento\n",
    "# Sin añadir normalización, inicialmente la precisión del modelo era de 9% y permanecía constante (se paró a las 10 épocas)\n",
    "# tras la normalización, la precisión inicial fue de 31%\n",
    "class VGG(nn.Module):\n",
    "\n",
    "    def __init__(self, num_clases):\n",
    "\n",
    "        super(VGG, self).__init__()\n",
    "\n",
    "        self.activacion = nn.ReLU()\n",
    "\n",
    "        self.pool = nn.MaxPool2d(kernel_size = (2, 2), stride = (2, 2))\n",
    "\n",
    "        # Grupo 1\n",
    "        self.stack_conv1 = nn.Conv2d(in_channels = 3, out_channels = 64, kernel_size = (3, 3), stride = (1, 1), padding = (1, 1))\n",
    "        self.norm1 = nn.BatchNorm2d(num_features = 64)\n",
    "        self.stack_conv2 = nn.Conv2d(in_channels = 64, out_channels = 64, kernel_size = (3, 3), stride = (1, 1), padding = (1, 1))\n",
    "        self.norm2 = self.norm1\n",
    "\n",
    "        # Grupo 2\n",
    "        self.stack_conv3 = nn.Conv2d(in_channels = 64, out_channels = 128, kernel_size = (3, 3), stride = (1, 1), padding = (1, 1))\n",
    "        self.norm3 = nn.BatchNorm2d(num_features = 128)\n",
    "        self.stack_conv4 = nn.Conv2d(in_channels = 128, out_channels = 128, kernel_size = (3, 3), stride = (1, 1), padding = (1, 1))\n",
    "        self.norm4 = self.norm3\n",
    "\n",
    "        # Grupo 3\n",
    "        self.stack_conv5 = nn.Conv2d(in_channels = 128, out_channels = 256, kernel_size = (3, 3), stride = (1, 1), padding = (1, 1))\n",
    "        self.norm5 = nn.BatchNorm2d(num_features = 256)\n",
    "        self.stack_conv6 = nn.Conv2d(in_channels = 256, out_channels = 256, kernel_size = (3, 3), stride = (1, 1), padding = (1, 1))\n",
    "        self.norm6 = self.norm5\n",
    "        self.stack_conv7 = nn.Conv2d(in_channels = 256, out_channels = 256, kernel_size = (3, 3), stride = (1, 1), padding = (1, 1))\n",
    "        self.norm7 = self.norm6\n",
    "\n",
    "        # Grupo 4\n",
    "        self.stack_conv8 = nn.Conv2d(in_channels = 256, out_channels = 512, kernel_size = (3, 3), stride = (1, 1), padding = (1, 1))\n",
    "        self.norm8 = nn.BatchNorm2d(num_features = 512)\n",
    "        self.stack_conv9 = nn.Conv2d(in_channels = 512, out_channels = 512, kernel_size = (3, 3), stride = (1, 1), padding = (1, 1))\n",
    "        self.norm9 = self.norm8\n",
    "        self.stack_conv10 = nn.Conv2d(in_channels = 512, out_channels = 512, kernel_size = (3, 3), stride = (1, 1), padding = (1, 1))\n",
    "        self.norm10 = self.norm9\n",
    "\n",
    "        # Grupo 5\n",
    "        self.stack_conv11 = nn.Conv2d(in_channels = 512, out_channels = 512, kernel_size = (3, 3), stride = (1, 1), padding = (1, 1))\n",
    "        self.norm11 = nn.BatchNorm2d(num_features = 512)\n",
    "        self.stack_conv12 = nn.Conv2d(in_channels = 512, out_channels = 512, kernel_size = (3, 3), stride = (1, 1), padding = (1, 1))\n",
    "        self.norm12= self.norm11\n",
    "        self.stack_conv13 = nn.Conv2d(in_channels = 512, out_channels = 512, kernel_size = (3, 3), stride = (1, 1), padding = (1, 1))\n",
    "        self.norm13 = self.norm12\n",
    "\n",
    "        self.fc1 = nn.Linear(in_features = 7 * 7 * 512, out_features = 4096)\n",
    "        self.fc2 = nn.Linear(in_features = 4096, out_features = 4096)\n",
    "        self.fc3 = nn.Linear(in_features = 4096, out_features = num_clases)\n",
    "\n",
    "    def forward(self, x):\n",
    "\n",
    "        # Grupo 1\n",
    "        x = self.activacion(self.norm1(self.stack_conv1(x)))\n",
    "        x = self.activacion(self.norm2(self.stack_conv2(x)))\n",
    "        \n",
    "        # Grupo 2\n",
    "        x = self.pool(x)\n",
    "        x = self.activacion(self.norm3(self.stack_conv3(x)))\n",
    "        x = self.activacion(self.norm4(self.stack_conv4(x)))\n",
    "        \n",
    "        # Grupo 3\n",
    "        x = self.pool(x)\n",
    "        x = self.activacion(self.norm5(self.stack_conv5(x)))\n",
    "        x = self.activacion(self.norm6(self.stack_conv6(x)))\n",
    "        x = self.activacion(self.norm7(self.stack_conv7(x)))\n",
    "\n",
    "        # Grupo 4\n",
    "        x = self.pool(x)\n",
    "        x = self.activacion(self.norm8(self.stack_conv8(x)))\n",
    "        x = self.activacion(self.norm9(self.stack_conv9(x)))\n",
    "        x = self.activacion(self.norm10(self.stack_conv10(x)))\n",
    "\n",
    "        # Grupo 5\n",
    "        x = self.pool(x)\n",
    "        x = self.activacion(self.norm11(self.stack_conv11(x)))\n",
    "        x = self.activacion(self.norm12(self.stack_conv12(x)))\n",
    "        x = self.activacion(self.norm13(self.stack_conv13(x)))\n",
    "\n",
    "        # Pooling\n",
    "        x = self.pool(x)\n",
    "\n",
    "        # Aplanamos la matriz a un vector\n",
    "        x = x.reshape(x.shape[0], -1)\n",
    "\n",
    "        # FC 1\n",
    "        x = self.activacion(self.fc1(x))\n",
    "        x = F.dropout(input = x, p = 0.5)\n",
    "        \n",
    "        # FC 2\n",
    "        x = self.activacion(self.fc2(x))\n",
    "        x = F.dropout(input = x, p = 0.5)\n",
    "\n",
    "        # FC 3\n",
    "        x = self.fc3(x)\n",
    "\n",
    "        return x"
   ]
  },
  {
   "cell_type": "code",
   "execution_count": 5,
   "metadata": {},
   "outputs": [],
   "source": [
    "# Hiperparámetros\n",
    "num_clases = 10 # Para CIFAR-10 tenemos 10 clases\n",
    "batch_size = 16\n",
    "learning_rate = 1e-2\n",
    "num_epocas = 40"
   ]
  },
  {
   "cell_type": "code",
   "execution_count": 6,
   "metadata": {},
   "outputs": [
    {
     "name": "stdout",
     "output_type": "stream",
     "text": [
      "Files already downloaded and verified\n",
      "Files already downloaded and verified\n"
     ]
    }
   ],
   "source": [
    "# Vamos a descargar el dataset de CIFAR10\n",
    "\n",
    "transform = transforms.Compose([\n",
    "    transforms.RandomResizedCrop(224),\n",
    "    transforms.RandomHorizontalFlip(),\n",
    "    transforms.ToTensor(),\n",
    "    transforms.Normalize(mean = [ 0.485, 0.456, 0.406 ],\n",
    "                         std  = [ 0.229, 0.224, 0.225 ]),\n",
    "    ])\n",
    "\n",
    "train_dataset = datasets.CIFAR10(root = 'dataset/', train = True, transform = transform, download = True)\n",
    "train_loader = DataLoader(dataset = train_dataset, batch_size = batch_size, shuffle = True)\n",
    "\n",
    "test_dataset = datasets.CIFAR10(root = 'dataset/', train = False, transform = transform, download = True)\n",
    "test_loader = DataLoader(dataset = test_dataset, batch_size = batch_size, shuffle = False)"
   ]
  },
  {
   "cell_type": "code",
   "execution_count": 7,
   "metadata": {},
   "outputs": [
    {
     "name": "stdout",
     "output_type": "stream",
     "text": [
      "Dataset CIFAR10\n",
      "    Number of datapoints: 50000\n",
      "    Root location: dataset/\n",
      "    Split: Train\n",
      "    StandardTransform\n",
      "Transform: Compose(\n",
      "               RandomResizedCrop(size=(224, 224), scale=(0.08, 1.0), ratio=(0.75, 1.3333), interpolation=PIL.Image.BILINEAR)\n",
      "               RandomHorizontalFlip(p=0.5)\n",
      "               ToTensor()\n",
      "               Normalize(mean=[0.485, 0.456, 0.406], std=[0.229, 0.224, 0.225])\n",
      "           )\n",
      "Dataset CIFAR10\n",
      "    Number of datapoints: 10000\n",
      "    Root location: dataset/\n",
      "    Split: Test\n",
      "    StandardTransform\n",
      "Transform: Compose(\n",
      "               RandomResizedCrop(size=(224, 224), scale=(0.08, 1.0), ratio=(0.75, 1.3333), interpolation=PIL.Image.BILINEAR)\n",
      "               RandomHorizontalFlip(p=0.5)\n",
      "               ToTensor()\n",
      "               Normalize(mean=[0.485, 0.456, 0.406], std=[0.229, 0.224, 0.225])\n",
      "           )\n"
     ]
    }
   ],
   "source": [
    "print(train_dataset)\n",
    "print(test_dataset)"
   ]
  },
  {
   "cell_type": "code",
   "execution_count": 8,
   "metadata": {},
   "outputs": [],
   "source": [
    "modelo = VGG(num_clases = num_clases).to(device)"
   ]
  },
  {
   "cell_type": "code",
   "execution_count": 9,
   "metadata": {},
   "outputs": [],
   "source": [
    "# Loss function, para clasificaciones de una sola etiqueta (y) como en este caso podemos utilizar Cross Entropy Loss\n",
    "func_perdida = nn.CrossEntropyLoss()\n",
    "\n",
    "# No es recomendable utilizar Adam para entrenar VGG debido a la cantidad de parámetros que hay\n",
    "# optimizador = optim.Adam(params = modelo.parameters(), lr = learning_rate)\n",
    "optimizador = optim.SGD(params = modelo.parameters(), lr = learning_rate)"
   ]
  },
  {
   "cell_type": "code",
   "execution_count": 10,
   "metadata": {},
   "outputs": [
    {
     "name": "stdout",
     "output_type": "stream",
     "text": [
      "torch.Size([16, 3, 224, 224])\n"
     ]
    },
    {
     "ename": "RuntimeError",
     "evalue": "CUDA error: the launch timed out and was terminated",
     "output_type": "error",
     "traceback": [
      "\u001b[1;31m---------------------------------------------------------------------------\u001b[0m",
      "\u001b[1;31mRuntimeError\u001b[0m                              Traceback (most recent call last)",
      "\u001b[1;32md:\\Documentos\\Propios\\AI_LIB\\PyTorch\\Aladdin_Persson_Tutorial\\VGG.ipynb Cell 10'\u001b[0m in \u001b[0;36m<cell line: 3>\u001b[1;34m()\u001b[0m\n\u001b[0;32m      <a href='vscode-notebook-cell:/d%3A/Documentos/Propios/AI_LIB/PyTorch/Aladdin_Persson_Tutorial/VGG.ipynb#ch0000011?line=2'>3</a>\u001b[0m \u001b[39mfor\u001b[39;00m epoca \u001b[39min\u001b[39;00m \u001b[39mrange\u001b[39m(num_epocas):\n\u001b[0;32m      <a href='vscode-notebook-cell:/d%3A/Documentos/Propios/AI_LIB/PyTorch/Aladdin_Persson_Tutorial/VGG.ipynb#ch0000011?line=4'>5</a>\u001b[0m     \u001b[39mfor\u001b[39;00m batch_idx, (x, y) \u001b[39min\u001b[39;00m \u001b[39menumerate\u001b[39m(iterable \u001b[39m=\u001b[39m train_loader):\n\u001b[1;32m----> <a href='vscode-notebook-cell:/d%3A/Documentos/Propios/AI_LIB/PyTorch/Aladdin_Persson_Tutorial/VGG.ipynb#ch0000011?line=6'>7</a>\u001b[0m         x \u001b[39m=\u001b[39m x\u001b[39m.\u001b[39;49mto(device \u001b[39m=\u001b[39;49m device)\n\u001b[0;32m      <a href='vscode-notebook-cell:/d%3A/Documentos/Propios/AI_LIB/PyTorch/Aladdin_Persson_Tutorial/VGG.ipynb#ch0000011?line=7'>8</a>\u001b[0m         y \u001b[39m=\u001b[39m y\u001b[39m.\u001b[39mto(device \u001b[39m=\u001b[39m device)\n\u001b[0;32m     <a href='vscode-notebook-cell:/d%3A/Documentos/Propios/AI_LIB/PyTorch/Aladdin_Persson_Tutorial/VGG.ipynb#ch0000011?line=9'>10</a>\u001b[0m         \u001b[39mif\u001b[39;00m (cont \u001b[39m==\u001b[39m \u001b[39m0\u001b[39m):\n",
      "\u001b[1;31mRuntimeError\u001b[0m: CUDA error: the launch timed out and was terminated"
     ]
    }
   ],
   "source": [
    "cont = 0\n",
    "\n",
    "for epoca in range(num_epocas):\n",
    "\n",
    "    correcto = 0\n",
    "    \n",
    "    for batch_idx, (x, y) in enumerate(train_loader):\n",
    "\n",
    "        x = x.to(device = device)\n",
    "        y = y.to(device = device)\n",
    "\n",
    "        if (cont == 0):\n",
    "            \n",
    "            print(x.shape)\n",
    "            cont += 1\n",
    "\n",
    "        # forward\n",
    "        scores = modelo(x)\n",
    "        loss = func_perdida(scores, y)\n",
    "\n",
    "        # Backpropagation\n",
    "        # Zero your gradients for every batch!\n",
    "        # Ponemos el gradiente a 0 para cada batch para que no almacene las derivadas de las anteriores capas\n",
    "        optimizador.zero_grad() \n",
    "        loss.backward()\n",
    "\n",
    "        # Descenso del gradiente o pasos del algoritmo ADAM\n",
    "        optimizador.step()\n",
    "        \n",
    "        #correcto += (scores == y).float().sum()\n",
    "        _,pred_label = torch.max(scores, dim = 1)\n",
    "        correcto += (pred_label == y).float().sum()\n",
    "    \n",
    "    # Podemos ajustar el learning rate conforme vamos entrenando el modelo, inicialmente el modelo\n",
    "    # requerirá pasos más grandes para aprender con mayor velocidad, conforme se encuentre a un mínimo\n",
    "    # los pasos deben reducirse con la intención de que no se aleje de dicho mínimo.\n",
    "    # En este caso cada 8 épocas estaríamos reduciendo el learning rate 10\n",
    "    if epoca % 8 == 0:\n",
    "\n",
    "      learning_rate /= 10 \n",
    "      optimizador.param_groups[0]['lr'] = learning_rate\n",
    "\n",
    "    print(f\"Epoca [{epoca+1}/{num_epocas}]\\tPrecision {((100 * correcto) / len(train_dataset))}\")"
   ]
  },
  {
   "cell_type": "code",
   "execution_count": null,
   "metadata": {},
   "outputs": [],
   "source": [
    "# Comprobar precisión del modelo en entrenamiento y validacion\n",
    "def comprobar_precision(loader, model):\n",
    "\n",
    "    num_correct = 0\n",
    "    num_samples = 0\n",
    "    model.eval()\n",
    "\n",
    "    # Para evaluar el modelo no necesitamos calcular el gradiente\n",
    "    with torch.no_grad(): \n",
    "    \n",
    "        for x, y in loader:\n",
    "    \n",
    "            x = x.to(device = device)\n",
    "            y = y.to(device = device)\n",
    "\n",
    "            scores = model(x)\n",
    "            _, predictions = scores.max(1)\n",
    "            num_correct += (predictions == y).sum()\n",
    "            num_samples += predictions.size(0)\n",
    "\n",
    "        print(f\"Tenemos {num_correct} / {num_samples} con una precision de {float(num_correct) / float(num_samples) * 100:.2f}\")\n",
    "\n",
    "    model.train()"
   ]
  }
 ],
 "metadata": {
  "kernelspec": {
   "display_name": "Python 3.8.13 ('pytorch_1.7.1')",
   "language": "python",
   "name": "python3"
  },
  "language_info": {
   "codemirror_mode": {
    "name": "ipython",
    "version": 3
   },
   "file_extension": ".py",
   "mimetype": "text/x-python",
   "name": "python",
   "nbconvert_exporter": "python",
   "pygments_lexer": "ipython3",
   "version": "3.8.13"
  },
  "orig_nbformat": 4,
  "vscode": {
   "interpreter": {
    "hash": "9b93f5843423b5e3529b2348264279e864dd5c0e7e7f0b21d3f099c54aa317cc"
   }
  }
 },
 "nbformat": 4,
 "nbformat_minor": 2
}
